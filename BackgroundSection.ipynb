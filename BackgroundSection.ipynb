{
 "cells": [
  {
   "cell_type": "markdown",
   "metadata": {},
   "source": [
    "## The Value of College"
   ]
  },
  {
   "cell_type": "markdown",
   "metadata": {},
   "source": [
    "### Problem Statement and Background\n"
   ]
  },
  {
   "cell_type": "markdown",
   "metadata": {},
   "source": [
    "While there has already been considerable research on the complex relationships between colleges and jobs, and between majors and jobs, there is a lot of information on their relationship to still uncover. One aspect that has not been extensively researched is the relationship between all three, i.e. colleges, majors, and jobs. Looking at the association between all three of them may uncover aspects that have gone unconsidered. \n",
    "\n",
    "In a report regarding the relationship between college majors and jobs, “What can you do with that degree? College major and occupational status of college graduates over time”, explores how college majors relate to the graduates’ transition into the workforce. According to this report, “College graduates differ not only in how much money they make, but also in the occupations they pursue, and furthermore, in whether their chosen fields lead to desirable occupational trajectories over time” (Roksa and Levey). Earlier in the article, the authors acknowledge that college graduates on average earn a higher salary due to the increased demand for educated workers, but the previous quote states that depending on your major (and the occupations that stem from that), the amount one can make and the jobs that one would pursue are different. This report also focuses on the relationship between occupational specificity of college majors and occupational states of college graduates. The report defines occupational specificity as “the proportion of students who obtain jobs related to their majors” (Roksa and Levey). The report also explains that, “While come programs offer occupationally specific training and have clear occupational counterparts in the labor market, others focus on general education and have few discernable vocational traits or clear occupational trajectories” (Roksa and Levey). This sets the stage for the two groups of college majors that will have a clear delineation throughout their research. An example given about occupational specific and non-specific majors are “...education, provide specific occupational training… creating a particularly tight connection between the educational credential and the labor market. On the other hand, fields such as sociology focus on general skills and have less discernible occupational specific components” (Roska and Levey). This report continues on to discuss what previous literature has stated, which is that majors that have occupationally specific training provide an easier transition into the workforce, but provide the counter that majors that are not occupational specific provide entry into a more flexible and general workforce.\n",
    "\n",
    "In recent history, many new sites such as U.S. News usually come out with a new report on the top ten to fifteen college majors every year. While these are usually not peer-reviewed or professional statistical reports, there are often times some research and statistics that are part of these reports. Sites like U.S. News often look at measures like starting and mid-career pay, and annual job growth when putting together these top majors reports. Looking at the top majors from this past year, different sites come to a slight consensus by including numerous STEM majors, such as multiple types of engineering, as well as computer science and data science. Other than STEM, these top major rankings usually include nursing and business. \n",
    "\n",
    "An aspect of the relationship between majors, colleges, and jobs that has been often overlooked is the students. In a study done by the Wall Street Journal and the Times Higher Education College Ranking, college students were asked if they think that their schools will end up being worth the expense. For this study, around 174,000 were collected over a two year period. The results from this showed that public schools on average did very well. According to the Wall Street Journal, “In the overall rankings, only 10 public schools are among the top 50, but 28 are ranked in the top 50 for being worth the cost in the eyes of their students” (McGee). Private schools on the other hand did not rank highly. The article states, “Private colleges make up 47 of the 53 schools least worth the cost according to their students” (McGee). The results also show that two of the top four colleges are military schools. \n",
    "\n",
    "In a study done by the Institute of Management Sciences, the relationship between grades, university rating, and a post-baccalaureate degree were examined. The report states that, “The company has long accepted the concept of institutional rankings as an important factor in establishing starting salaries for new employes [sic]” (Schick and Kunnecke, 11). The results of the study shows that the analysis done shows that there was no significant relationship between the variables of interest and salary, in regards to undergraduates. The report states, “...the analysis of salary progression among undergraduates disclosed no significant ability of employees from prestigious schools to command progressively higher salaries than their associates from lower-rates institutions” (Schick and Kunnecke, 10). \n",
    "\n",
    "After looking at some of the research that has already been done, we see a clear gap in research regarding the relationship between majors, colleges, and jobs. This relationship will be our guiding research question. This is interesting due to the gaps in research regarding the relationship between the numerous variables, as well as our personal interest in the topic. As soon-to-be college graduates, this topic is relevant to us and our fellow classmates. As we move through our research, some things we want to keep in mind are general questions like on average, what college graduates receive the highest starting and median salary, what regions receive the highest starting and median salary, etc. Similar to the study that I previously mentioned from the Wall Street Journal and the Times Higher Education College Ranking, we want to see from a quantitative basis if those colleges and universities are worth the price, and if the students are getting a good value for their education. The ultimate goal of our project is to combine the answers to all of these questions into something that is understandable, available, and comprehensive for students to reference.\n"
   ]
  },
  {
   "cell_type": "markdown",
   "metadata": {},
   "source": [
    "### Citations"
   ]
  },
  {
   "cell_type": "markdown",
   "metadata": {},
   "source": [
    "“8 College Majors With Great Job Prospects.” U.S. News & World Report, U.S. News & World \t\tReport,      \n",
    "https://www.usnews.com/education/best-colleges/articles/2018-09-11/8-college-majors-\n",
    "With-great-job-prospects.\n",
    " \n",
    "McGee, Charlie. “Is Your College Worth the Cost? Here's What Students Say About Their \n",
    "Colleges.” The Wall Street Journal, Dow Jones & Company, 4 Sept. 2019, \n",
    "https://www.wsj.com/articles/is-your-college-worth-the-cost-heres-what-students-say-about-their-colleges-11567640341.\n",
    " \n",
    "Roksa, Josipa, and Tania Levey. \"What can you do with that degree? College major and \n",
    "occupational status of college graduates over time.\" Social Forces, vol. 89, no. 2, 2010, \n",
    "p. 389+. Gale In Context: Opposing Viewpoints, \n",
    "https://link.gale.com/apps/doc/A247339518/OVIC?u=ohlnk261&sid=OVIC&xid=d3f12a6e\n",
    "\n",
    "Schick, G. J., and B. F. Kunnecke. “Do High Grades, Top Schools, or An Advanced Degree\n",
    "Lead to Job Security and Extraordinary Salary Progression?” Interfaces, vol. 12, no. 1, \n",
    "1982, pp. 9–18., doi:10.1287/inte.12.1.9.\n"
   ]
  },
  {
   "cell_type": "code",
   "execution_count": null,
   "metadata": {
    "collapsed": true
   },
   "outputs": [],
   "source": []
  }
 ],
 "metadata": {
  "kernelspec": {
   "display_name": "Python 3",
   "language": "python",
   "name": "python3"
  },
  "language_info": {
   "codemirror_mode": {
    "name": "ipython",
    "version": 3
   },
   "file_extension": ".py",
   "mimetype": "text/x-python",
   "name": "python",
   "nbconvert_exporter": "python",
   "pygments_lexer": "ipython3",
   "version": "3.4.3"
  }
 },
 "nbformat": 4,
 "nbformat_minor": 0
}
